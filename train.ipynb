{
 "cells": [
  {
   "cell_type": "markdown",
   "metadata": {},
   "source": [
    "____________________"
   ]
  },
  {
   "cell_type": "code",
   "execution_count": 1,
   "metadata": {
    "collapsed": true
   },
   "outputs": [],
   "source": [
    "import warnings\n",
    "warnings.filterwarnings('ignore')"
   ]
  },
  {
   "cell_type": "code",
   "execution_count": 2,
   "metadata": {
    "collapsed": false
   },
   "outputs": [],
   "source": [
    "%load_ext autoreload\n",
    "%autoreload 2"
   ]
  },
  {
   "cell_type": "code",
   "execution_count": 3,
   "metadata": {
    "collapsed": false
   },
   "outputs": [
    {
     "name": "stdout",
     "output_type": "stream",
     "text": [
      "Populating the interactive namespace from numpy and matplotlib\n"
     ]
    },
    {
     "name": "stderr",
     "output_type": "stream",
     "text": [
      "Using TensorFlow backend.\n"
     ]
    }
   ],
   "source": [
    "%pylab inline\n",
    "import os\n",
    "import pandas as pd\n",
    "import numpy as np\n",
    "from sklearn.model_selection import train_test_split\n",
    "from sklearn.metrics import  f1_score, accuracy_score\n",
    "from utils import load_obj\n",
    "from keras.models import load_model \n",
    "import seaborn as sns\n",
    "from utils import inverse_ohe"
   ]
  },
  {
   "cell_type": "code",
   "execution_count": 4,
   "metadata": {
    "collapsed": true
   },
   "outputs": [],
   "source": [
    "# Путь к файлу с мета данными\n",
    "meta_pth = '/media/grigory/Data/ITMO_DATA/data_v_7_stc/meta/meta.txt'\n",
    "\n",
    "# Пути к директориям с аудиофайлами.\n",
    "train_audio_pth = '/media/grigory/Data/ITMO_DATA/data_v_7_stc/audio'\n",
    "test_audio_pth = '/media/grigory/Data/ITMO_DATA/data_v_7_stc/test'\n",
    "\n",
    "extracted_data = 'data/extracted'\n",
    "\n",
    "# Имена файлов с извлечёнными признаками для dense сети, линейных моделей и деревьев.\n",
    "extracted_train = 'features_labels_train' \n",
    "extracted_test = 'features_labels_test'"
   ]
  },
  {
   "cell_type": "markdown",
   "metadata": {},
   "source": [
    "загружаем извлечённые признаки"
   ]
  },
  {
   "cell_type": "code",
   "execution_count": 5,
   "metadata": {
    "collapsed": false
   },
   "outputs": [],
   "source": [
    "X, names, labels = load_obj(os.path.join(extracted_data, extracted_train))\n",
    "X_test, names_test = load_obj(os.path.join(extracted_data, extracted_test))[:2]"
   ]
  },
  {
   "cell_type": "code",
   "execution_count": 6,
   "metadata": {
    "collapsed": false
   },
   "outputs": [],
   "source": [
    "from sklearn.preprocessing import LabelEncoder\n",
    "from sklearn.preprocessing import OneHotEncoder\n",
    "\n",
    "# кодируем таргет\n",
    "le = LabelEncoder()\n",
    "y = le.fit_transform(labels)\n",
    "ohe =  OneHotEncoder()\n",
    "y_ohe = ohe.fit_transform(y.reshape(-1,1))"
   ]
  },
  {
   "cell_type": "code",
   "execution_count": 7,
   "metadata": {
    "collapsed": false
   },
   "outputs": [
    {
     "name": "stdout",
     "output_type": "stream",
     "text": [
      "Число классов: 8\n",
      "Число признаков: 193\n",
      "Число сэмплов: 11307\n"
     ]
    }
   ],
   "source": [
    "n_features = X.shape[1]\n",
    "n_classes = y.max()+1\n",
    "print('Число классов: {}\\nЧисло признаков: {}\\nЧисло сэмплов: {}'.format(n_classes, n_features, y.shape[0]))"
   ]
  },
  {
   "cell_type": "markdown",
   "metadata": {},
   "source": [
    "> для правильной валидации нужно учитывать, что некоторые сэмплы являются частями одной записи.\n",
    "Если части одной записи будут разрознено находится и в train и в val, то произойдёт утечка меток в валидацию.\n",
    "\n",
    "Поэтому сперва найдём уникальные записи и сгруппируем все фрагменты по принадлежности к отдельной записи."
   ]
  },
  {
   "cell_type": "code",
   "execution_count": 8,
   "metadata": {
    "collapsed": true
   },
   "outputs": [],
   "source": [
    "groups_le = LabelEncoder()\n",
    "unique_samples = pd.Series(names).apply(lambda x: x.split('time_stretch')[0].strip('.wav').strip('_'))\n",
    "groups = groups_le.fit_transform(unique_samples)"
   ]
  },
  {
   "cell_type": "code",
   "execution_count": 9,
   "metadata": {
    "collapsed": true
   },
   "outputs": [],
   "source": [
    "from sklearn.model_selection import GroupShuffleSplit\n",
    "gss = GroupShuffleSplit(n_splits=1, test_size=0.2, train_size=0.8, random_state=7)\n",
    "\n",
    "idxs = np.arange(X.shape[0])\n",
    "tr_idxs, val_idxs = next(iter(gss.split(idxs, groups=groups)))"
   ]
  },
  {
   "cell_type": "code",
   "execution_count": 10,
   "metadata": {
    "collapsed": true
   },
   "outputs": [],
   "source": [
    "# сплитим...\n",
    "# имена файлов\n",
    "names_train, names_val = names[tr_idxs], names[val_idxs]\n",
    "# извлечённые признаки\n",
    "X_train, X_val = X[tr_idxs], X[val_idxs]\n",
    "# метки для sklearn\n",
    "y_train, y_val = y[tr_idxs], y[val_idxs]\n",
    "# метки для сеток\n",
    "y_ohe_train, y_ohe_val = y_ohe[tr_idxs], y_ohe[val_idxs]"
   ]
  },
  {
   "cell_type": "code",
   "execution_count": 11,
   "metadata": {
    "collapsed": true
   },
   "outputs": [],
   "source": [
    "groups_train, groups_val = groups[tr_idxs], groups[val_idxs]"
   ]
  },
  {
   "cell_type": "markdown",
   "metadata": {},
   "source": [
    "## Нелинейные модели"
   ]
  },
  {
   "cell_type": "markdown",
   "metadata": {},
   "source": [
    "#### бустинг и лес"
   ]
  },
  {
   "cell_type": "code",
   "execution_count": 12,
   "metadata": {
    "collapsed": false
   },
   "outputs": [
    {
     "name": "stdout",
     "output_type": "stream",
     "text": [
      "Scoring...\n"
     ]
    },
    {
     "name": "stderr",
     "output_type": "stream",
     "text": [
      "/home/grigory/anaconda3/lib/python3.6/site-packages/sklearn/preprocessing/label.py:151: DeprecationWarning: The truth value of an empty array is ambiguous. Returning False, but in future this will result in an error. Use `array.size > 0` to check that an array is not empty.\n",
      "  if diff:\n"
     ]
    },
    {
     "name": "stdout",
     "output_type": "stream",
     "text": [
      "Acc:: Train score: 1.0, val score: 0.9457910973997355\n",
      "CPU times: user 7min 50s, sys: 444 ms, total: 7min 50s\n",
      "Wall time: 1min\n"
     ]
    },
    {
     "name": "stderr",
     "output_type": "stream",
     "text": [
      "/home/grigory/anaconda3/lib/python3.6/site-packages/sklearn/preprocessing/label.py:151: DeprecationWarning: The truth value of an empty array is ambiguous. Returning False, but in future this will result in an error. Use `array.size > 0` to check that an array is not empty.\n",
      "  if diff:\n"
     ]
    }
   ],
   "source": [
    "%%time\n",
    "# !pip install lightgbm\n",
    "import lightgbm as lgb\n",
    "from lightgbm.sklearn import LGBMClassifier\n",
    "\n",
    "lgbm = LGBMClassifier(learning_rate=1e-2,\n",
    "#                        reg_alpha=1e-2,\n",
    "#                        reg_beta=1e-1,\n",
    "#                      valid_sets=[X_val, y_val],\n",
    "                       random_state=7,\n",
    "                     n_estimators=500)\n",
    "lgbm.fit(X_train, y_train);\n",
    "\n",
    "# Оцениваем качества на отложенной выборке\n",
    "print('Scoring...')\n",
    "tr_score = lgbm.score(X_train, y_train)\n",
    "val_score = lgbm.score(X_val, y_val)\n",
    "print('Acc:: Train score: {}, val score: {}'.format(tr_score, val_score))"
   ]
  },
  {
   "cell_type": "markdown",
   "metadata": {},
   "source": [
    "лучшие параметры  для случайного леса были найдены с помощью RandomizedSearch. Поиск занимает около 40 мин.\n",
    "\n",
    "Параметры были записаны  в best_params, так что ячейки с перебором закомиченна"
   ]
  },
  {
   "cell_type": "code",
   "execution_count": 13,
   "metadata": {
    "collapsed": true
   },
   "outputs": [],
   "source": [
    "# # ~ 40 min\n",
    "# from sklearn.model_selection import GridSearchCV, RandomizedSearchCV\n",
    "# from sklearn.ensemble import RandomForestClassifier\n",
    "\n",
    "# estimator = RandomForestClassifier(random_state=7)\n",
    "# gs_params = dict(\n",
    "#     max_depth=[3,10, 15, 50, 100, 150],\n",
    "#     n_estimators=[5,10, 25, 50, 100, 150, 250],\n",
    "#     max_features= list(np.linspace(0.1,1,20)) + ['auto', 'sqrt'],\n",
    "#     bootstrap=[True, False]\n",
    "# )\n",
    "# gs = RandomizedSearchCV(estimator, gs_params, n_jobs=-1, random_state=7,\n",
    "#                         n_iter=100, verbose=2)#GridSearchCV(trees, gs_params)\n",
    "# gs.fit(X_train, y_train, groups=groups_train);"
   ]
  },
  {
   "cell_type": "code",
   "execution_count": 14,
   "metadata": {
    "collapsed": false
   },
   "outputs": [
    {
     "name": "stdout",
     "output_type": "stream",
     "text": [
      "Scoring...\n",
      "Acc:: Train score: 1.0, val score: 0.9519612163948876\n"
     ]
    }
   ],
   "source": [
    "# trees = gs.best_estimator_\n",
    "from sklearn.ensemble import RandomForestClassifier\n",
    "best_params = {'n_estimators': 100, \n",
    "               'max_features': 0.19473684210526315, \n",
    "               'max_depth': 100, 'bootstrap': False,\n",
    "               'random_state':12}\n",
    "trees = RandomForestClassifier(**best_params)\n",
    "trees.fit(X_train, y_train)\n",
    "# Оцениваем качества на отложенной выборке\n",
    "print('Scoring...')\n",
    "tr_score = trees.score(X_train, y_train)\n",
    "val_score = trees.score(X_val, y_val)\n",
    "print('Acc:: Train score: {}, val score: {}'.format(tr_score, val_score))"
   ]
  },
  {
   "cell_type": "markdown",
   "metadata": {},
   "source": [
    "## Линейные модели"
   ]
  },
  {
   "cell_type": "code",
   "execution_count": 15,
   "metadata": {
    "collapsed": true,
    "scrolled": true
   },
   "outputs": [],
   "source": [
    "# # 5 min\n",
    "# from sklearn.linear_model import LogisticRegression\n",
    "# logreg = LogisticRegression(random_state=7)\n",
    "# gs_params = dict(\n",
    "#     C = np.logspace(-3,3,10),\n",
    "# )\n",
    "# gs = RandomizedSearchCV(logreg, gs_params, n_jobs=-1, random_state=7,\n",
    "#                         n_iter=10, verbose=1)#GridSearchCV(trees, gs_params)\n",
    "# gs.fit(X_train, y_train, groups=groups_train);\n",
    "\n",
    "# logreg = gs.best_estimator_\n",
    "# logreg.fit(X_train, y_train)\n",
    "# # Оцениваем качества на отложенной выборке\n",
    "# print('Scoring...')\n",
    "# tr_score = logreg.score(X_train, y_train)\n",
    "# val_score = logreg.score(X_val, y_val)\n",
    "# print('Acc:: Train score: {}, val score: {}'.format(tr_score, val_score))"
   ]
  },
  {
   "cell_type": "code",
   "execution_count": 16,
   "metadata": {
    "collapsed": false
   },
   "outputs": [
    {
     "name": "stdout",
     "output_type": "stream",
     "text": [
      "Scoring...\n",
      "Acc:: Train score: 0.9487718521796857, val score: 0.8990744821507272\n"
     ]
    }
   ],
   "source": [
    "from sklearn.linear_model import LogisticRegression\n",
    "best_params = {'C': 1000.0}\n",
    "logreg = LogisticRegression(**best_params, random_state=7)\n",
    "logreg.fit(X_train, y_train)\n",
    "# Оцениваем качества на отложенной выборке\n",
    "print('Scoring...')\n",
    "tr_score = logreg.score(X_train, y_train)\n",
    "val_score = logreg.score(X_val, y_val)\n",
    "print('Acc:: Train score: {}, val score: {}'.format(tr_score, val_score))"
   ]
  },
  {
   "cell_type": "markdown",
   "metadata": {},
   "source": [
    "_________"
   ]
  },
  {
   "cell_type": "markdown",
   "metadata": {},
   "source": [
    "#### онлайн-обучение нейонных сеток\n",
    "\n",
    "Обзор методов на нейронных сетях:\n",
    "\n",
    "- http://www.fim.uni-passau.de/fileadmin/files/lehrstuhl/schuller/Publications/Amiriparian17-SSC.pdf\n",
    "- https://github.com/libphy/which_animal\n",
    "- https://github.com/jaron/deep-listening\n",
    "- https://musicinformationretrieval.com/mfcc.html\n",
    "\n",
    "Тестировались:\n",
    "    - полносвязанные сети\n",
    "    - lstm\n",
    "    - свёрточные\n",
    "\n",
    "Самые лучшие результаты показали полносвязные сети.\n",
    "\n",
    "\n",
    "*Коротко о подборе оптимальной архитектуры для Dense сети*:"
   ]
  },
  {
   "cell_type": "markdown",
   "metadata": {},
   "source": [
    "<img width=350 src=\"https://habrastorage.org/webt/sg/7t/tu/sg7ttuirleaml3_j7dwo2tn0iqs.png\">"
   ]
  },
  {
   "cell_type": "code",
   "execution_count": 74,
   "metadata": {
    "collapsed": false
   },
   "outputs": [],
   "source": [
    "import keras\n",
    "from keras import backend as K\n",
    "from keras.optimizers import Adam\n",
    "from keras.callbacks import EarlyStopping, ModelCheckpoint, ReduceLROnPlateau\n",
    "from models import (build_deep_dense, build_conv_seq, build_lstm_seq)\n",
    "from callbacks import AggregatedPredictions, CyclicLR"
   ]
  },
  {
   "cell_type": "markdown",
   "metadata": {},
   "source": [
    "##### Dense сеть"
   ]
  },
  {
   "cell_type": "code",
   "execution_count": 75,
   "metadata": {
    "collapsed": true
   },
   "outputs": [],
   "source": [
    "# normalize\n",
    "mean_ = np.mean(X_train, axis=0)\n",
    "std_ = np.std(X_train, axis=0)"
   ]
  },
  {
   "cell_type": "code",
   "execution_count": 90,
   "metadata": {
    "collapsed": false,
    "scrolled": true
   },
   "outputs": [
    {
     "name": "stdout",
     "output_type": "stream",
     "text": [
      "Epoch 00004: val_loss improved from inf to 0.57691, saving model to models_weights/net_ff.h5\n",
      "Best ensemble of [1, 2, 3, 4] has score 0.8070\n",
      "Best ensemble of [1, 2, 3, 4, 5] has score 0.8237\n",
      "Epoch 00008: val_loss improved from 0.57691 to 0.33133, saving model to models_weights/net_ff.h5\n",
      "Best ensemble of [2, 3, 4, 5, 7, 6] has score 0.8748\n",
      "Best ensemble of [3, 4, 5, 7, 6, 8] has score 0.8907\n",
      "Best ensemble of [4, 5, 7, 6, 8, 9] has score 0.9022\n",
      "Best ensemble of [5, 7, 6, 8, 9, 10] has score 0.9101\n",
      "Epoch 00012: val_loss improved from 0.33133 to 0.28749, saving model to models_weights/net_ff.h5\n",
      "Best ensemble of [7, 6, 8, 9, 11, 10] has score 0.9198\n",
      "Best ensemble of [6, 8, 9, 11, 12, 10] has score 0.9233\n",
      "Best ensemble of [8, 9, 13, 11, 12, 10] has score 0.9255\n",
      "Epoch 00016: val_loss improved from 0.28749 to 0.28309, saving model to models_weights/net_ff.h5\n",
      "Best ensemble of [13, 11, 12, 15, 14, 10] has score 0.9268\n",
      "Best ensemble of [11, 12, 16, 15, 14, 10] has score 0.9277\n",
      "Best ensemble of [12, 16, 15, 14, 10, 17] has score 0.9317\n",
      "Epoch 00020: val_loss did not improve\n",
      "Best ensemble of [16, 15, 14, 10, 19, 17] has score 0.9330\n",
      "Best ensemble of [15, 14, 10, 20, 19, 17] has score 0.9343\n",
      "Best ensemble of [21, 10, 20, 22, 19, 17] has score 0.9361\n",
      "Epoch 00024: val_loss did not improve\n",
      "Best ensemble of [10, 20, 22, 19, 17, 24] has score 0.9414\n",
      "Best ensemble of [22, 19, 26, 17, 25, 24] has score 0.9418\n",
      "Epoch 00028: val_loss did not improve\n",
      "\n",
      "Epoch 00030: reducing learning rate to 3.77499993192032e-05.\n",
      "Epoch 00032: val_loss did not improve\n",
      "Best ensemble of [27, 28, 25, 30, 31, 24] has score 0.9436\n",
      "Best ensemble of [32, 28, 25, 30, 31, 24] has score 0.9440\n",
      "Epoch 00036: val_loss did not improve\n",
      "Remain models from epochs: [32, 28, 25, 30, 31, 24], which gain score 0.944\n"
     ]
    },
    {
     "data": {
      "text/plain": [
       "<keras.callbacks.History at 0x7f110072f668>"
      ]
     },
     "execution_count": 90,
     "metadata": {},
     "output_type": "execute_result"
    }
   ],
   "source": [
    "K.clear_session()\n",
    "model = build_deep_dense(n_features, n_classes)\n",
    "\n",
    "\n",
    "model.compile(loss='categorical_crossentropy', \n",
    "              optimizer=Adam(1e-4), \n",
    "              metrics=['accuracy'])\n",
    "callbacks = [\n",
    "    EarlyStopping(patience=20, monitor='val_loss'),\n",
    "    ModelCheckpoint('models_weights/net_ff.h5', monitor='val_loss', \n",
    "                    verbose=1, save_best_only=True, period=4),\n",
    "    AggregatedPredictions((X_val - mean_)/std_, y_val, ohe, on_each=1, best=6),\n",
    "    CyclicLR(base_lr=1e-4, max_lr=6e-4),  # бывают проблемы с этим, повторно выполнтить ячейку с импортом этого пакета\n",
    "    ReduceLROnPlateau(monitor='val_loss', factor=0.1, \n",
    "                      patience=10, verbose=1, mode='auto')\n",
    "    \n",
    "]\n",
    "\n",
    "model.fit((X_train - mean_)/std_, y_ohe_train.todense(), \n",
    "          epochs=300, batch_size=250, \n",
    "          verbose=0,\n",
    "          validation_data=[(X_val - mean_)/std_, y_ohe_val.todense()],\n",
    "         callbacks=callbacks)"
   ]
  },
  {
   "cell_type": "code",
   "execution_count": 91,
   "metadata": {
    "collapsed": false
   },
   "outputs": [],
   "source": [
    "epochs = [int(t.split('.')[0].split('_')[1]) for t in os.listdir('tmp')]"
   ]
  },
  {
   "cell_type": "code",
   "execution_count": 92,
   "metadata": {
    "collapsed": false
   },
   "outputs": [
    {
     "name": "stdout",
     "output_type": "stream",
     "text": [
      "0.9440282062582636\n"
     ]
    }
   ],
   "source": [
    "class Aggregator:\n",
    "    def __init__(self, epochs, tmp_dir='tmp'):\n",
    "        self.epochs = epochs\n",
    "        self.tmp_dir = tmp_dir\n",
    "        \n",
    "    def predict_proba(self, X):\n",
    "        return self.predict(X)\n",
    "        \n",
    "    def predict(self, data):\n",
    "        preds = []\n",
    "        for epoch in self.epochs:\n",
    "            model = load_model(os.path.join(self.tmp_dir, 'tmp_{}.h5'.format(epoch)))\n",
    "            pred = model.predict((data-mean_)/std_)\n",
    "            preds.append(pred)\n",
    "            K.clear_session()\n",
    "            del model\n",
    "        return np.array(preds).mean(axis=0)\n",
    "    \n",
    "agg_dense = Aggregator(epochs)\n",
    "preds = agg_dense.predict(X_val)\n",
    "preds = inverse_ohe(preds, ohe)\n",
    "print(accuracy_score(y_val, preds))"
   ]
  },
  {
   "cell_type": "code",
   "execution_count": 93,
   "metadata": {
    "collapsed": false
   },
   "outputs": [
    {
     "data": {
      "text/plain": [
       "0.505864129232131"
      ]
     },
     "execution_count": 93,
     "metadata": {},
     "output_type": "execute_result"
    }
   ],
   "source": [
    "from sklearn.naive_bayes import BernoulliNB\n",
    "nbc = BernoulliNB()\n",
    "nbc.fit(X_train, y_train)\n",
    "nbc.score(X_train, y_train)"
   ]
  },
  {
   "cell_type": "code",
   "execution_count": 94,
   "metadata": {
    "collapsed": false
   },
   "outputs": [
    {
     "data": {
      "text/plain": [
       "0.9338915821947995"
      ]
     },
     "execution_count": 94,
     "metadata": {},
     "output_type": "execute_result"
    }
   ],
   "source": [
    "from sklearn.neighbors import KNeighborsClassifier\n",
    "knn = KNeighborsClassifier(n_neighbors=3, metric='cosine')\n",
    "knn.fit(X_train, y_train)\n",
    "\n",
    "knn.score(X_val, y_val)"
   ]
  },
  {
   "cell_type": "markdown",
   "metadata": {},
   "source": [
    "Выводы по моделям:\n",
    "\n",
    "### TODO обновить выводы.\n",
    "> Наилучшими моделями(без яростного тюнинга параметров) оказались полносвязная сеть, бустинг и случайный лес. В целом, можно сказать, что они дают  сопоставимые результаты, но если посмотреть на:\n",
    "    - распределние плотности вероятности для максимальных классов по всей выборке\n",
    "    - разницу точности предсказаний на трейне и валидации \n",
    "...можно легко заметить, что модели переобучились. Чтобы бороться с переобучением сделаем простой блендинг."
   ]
  },
  {
   "cell_type": "markdown",
   "metadata": {},
   "source": [
    "## Блендинг"
   ]
  },
  {
   "cell_type": "code",
   "execution_count": 95,
   "metadata": {
    "collapsed": false
   },
   "outputs": [
    {
     "name": "stdout",
     "output_type": "stream",
     "text": [
      "1.0\n",
      "train\n",
      "0.9997787121044479 0.9995068254411965\n",
      "validation\n",
      "0.9629792860290877 0.9408084321241358\n"
     ]
    }
   ],
   "source": [
    "from sklearn.metrics import accuracy_score\n",
    "from utils import blend, blending_weights_search, multiclass_auc\n",
    "from itertools import product\n",
    "weights = [0.20, 0.25,  0.15, 0.15, 0.15, 0.10]\n",
    "print(sum(weights))\n",
    "models = [trees, agg_dense, logreg, lgbm, nbc, knn]\n",
    "print('train')\n",
    "preds = blend(models, X_train, weights)\n",
    "print( accuracy_score(y_train, preds), multiclass_auc(y_train, preds, metric='pc'))\n",
    "\n",
    "print('validation')\n",
    "preds = blend(models, X_val, weights)\n",
    "print( accuracy_score(y_val, preds), multiclass_auc(y_val, preds, metric='pc'))"
   ]
  },
  {
   "cell_type": "markdown",
   "metadata": {},
   "source": [
    "```\n",
    "1.0\n",
    "train\n",
    "0.9995574242088958 0.9992236323875088\n",
    "validation\n",
    "0.9651828999559278 0.9467950234765703\n",
    "```"
   ]
  },
  {
   "cell_type": "markdown",
   "metadata": {},
   "source": [
    "### SQ метрика\n",
    "\n",
    ">  Делаете перебор по всем значениям порога. Для каждого значения порога рассчитываете по базе точность и вероятность ложного срабатывания. Наносим полученные значения в соответствующих осях, получаем график точности от вероятности ложного срабатывания"
   ]
  },
  {
   "cell_type": "code",
   "execution_count": 66,
   "metadata": {
    "collapsed": false
   },
   "outputs": [
    {
     "data": {
      "text/plain": [
       "-0.7294382924292239"
      ]
     },
     "execution_count": 66,
     "metadata": {},
     "output_type": "execute_result"
    },
    {
     "data": {
      "image/png": "[encoded data removed]",
      "text/plain": [
       "<Figure size 576x396 with 1 Axes>"
      ]
     },
     "metadata": {},
     "output_type": "display_data"
    }
   ],
   "source": [
    "def evaluate(data, labels, eps=1e-8):\n",
    "    def sq_metric(y_true, probas):\n",
    "        from sklearn.metrics import recall_score, precision_score, accuracy_score\n",
    "        thresholds = np.linspace(0,1,1000)\n",
    "        accs, fprs = [], []\n",
    "        classes = set(y_true)\n",
    "        for th in thresholds:\n",
    "            tmp_acc = []\n",
    "            tmp_fpr = []\n",
    "            for  cls in classes:\n",
    "                y_pred = (probas[:, cls] > th).astype(np.uint8)\n",
    "                y_gt = (y_true==cls).astype(np.uint8)\n",
    "                # Считаем точность, как доля правильных ответов среди всех\n",
    "                acc = accuracy_score(y_gt, y_pred)\n",
    "                # Счиатем лоное срабатывание\n",
    "                fpr =  ((y_pred==1) & (y_gt==0)).sum() / (y_pred.sum()+eps)\n",
    "                tmp_acc.append(acc)\n",
    "                tmp_fpr.append(fpr)\n",
    "            accs.append(np.array(tmp_acc).mean())\n",
    "            fprs.append(np.array(tmp_fpr).mean())\n",
    "        return accs, fprs\n",
    "    \n",
    "    probas = blend(models, data, weights, proba=True)\n",
    "    accs, fprs = sq_metric(labels, probas)\n",
    "    plt.plot(accs, fprs, '-o');\n",
    "    return np.trapz(accs, x=fprs)\n",
    "\n",
    "evaluate(X_train, y_train)"
   ]
  },
  {
   "cell_type": "markdown",
   "metadata": {},
   "source": [
    "### Предикт теста и подготовка сабмита\n",
    "\n",
    "https://mlschool.speechpro.ru/core/results"
   ]
  },
  {
   "cell_type": "code",
   "execution_count": 67,
   "metadata": {
    "collapsed": true
   },
   "outputs": [],
   "source": [
    "preds = blend(models, X_test, weights=weights, proba=True)"
   ]
  },
  {
   "cell_type": "code",
   "execution_count": 68,
   "metadata": {
    "collapsed": false
   },
   "outputs": [
    {
     "name": "stderr",
     "output_type": "stream",
     "text": [
      "/home/grigory/anaconda3/lib/python3.6/site-packages/sklearn/preprocessing/label.py:151: DeprecationWarning: The truth value of an empty array is ambiguous. Returning False, but in future this will result in an error. Use `array.size > 0` to check that an array is not empty.\n",
      "  if diff:\n"
     ]
    }
   ],
   "source": [
    "def prepare_submit(names, preds, ohe=ohe, le=le):\n",
    "    pred_labels = inverse_ohe(preds, ohe)\n",
    "    pred_names = le.inverse_transform(pred_labels)\n",
    "    df = pd.DataFrame(list(zip(names, preds.max(axis=1), pred_names)), columns=['file','prob','label'])\n",
    "    return df\n",
    "                      \n",
    "submit_df = prepare_submit(names_test, preds)"
   ]
  },
  {
   "cell_type": "code",
   "execution_count": 69,
   "metadata": {
    "collapsed": true
   },
   "outputs": [],
   "source": [
    "submit_df.to_csv('result.txt', sep='\\t', header=None, index=None)"
   ]
  },
  {
   "cell_type": "code",
   "execution_count": null,
   "metadata": {
    "collapsed": true
   },
   "outputs": [],
   "source": []
  }
 ],
 "metadata": {
  "kernelspec": {
   "display_name": "Python 3",
   "language": "python",
   "name": "python3"
  },
  "language_info": {
   "codemirror_mode": {
    "name": "ipython",
    "version": 3
   },
   "file_extension": ".py",
   "mimetype": "text/x-python",
   "name": "python",
   "nbconvert_exporter": "python",
   "pygments_lexer": "ipython3",
   "version": "3.6.3"
  }
 },
 "nbformat": 4,
 "nbformat_minor": 2
}
